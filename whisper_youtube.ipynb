{
  "nbformat": 4,
  "nbformat_minor": 0,
  "metadata": {
    "colab": {
      "provenance": [],
      "gpuType": "T4"
    },
    "kernelspec": {
      "name": "python3",
      "display_name": "Python 3"
    },
    "language_info": {
      "name": "python"
    },
    "accelerator": "GPU"
  },
  "cells": [
    {
      "cell_type": "code",
      "execution_count": null,
      "metadata": {
        "colab": {
          "base_uri": "https://localhost:8080/"
        },
        "id": "sPvmW1DfuOib",
        "outputId": "692c7ced-35c1-4133-cde0-c3f717c2e243"
      },
      "outputs": [
        {
          "output_type": "stream",
          "name": "stdout",
          "text": [
            "\u001b[?25l     \u001b[90m━━━━━━━━━━━━━━━━━━━━━━━━━━━━━━━━━━━━━━━━\u001b[0m \u001b[32m0.0/226.7 kB\u001b[0m \u001b[31m?\u001b[0m eta \u001b[36m-:--:--\u001b[0m\r\u001b[2K     \u001b[90m━━━━━━━━━━━━━━━━━━━━━━━━━━━━━━━━━━━━━━━━\u001b[0m \u001b[32m226.7/226.7 kB\u001b[0m \u001b[31m6.6 MB/s\u001b[0m eta \u001b[36m0:00:00\u001b[0m\n",
            "\u001b[2K     \u001b[90m━━━━━━━━━━━━━━━━━━━━━━━━━━━━━━━━━━━━━━━━\u001b[0m \u001b[32m75.6/75.6 kB\u001b[0m \u001b[31m8.8 MB/s\u001b[0m eta \u001b[36m0:00:00\u001b[0m\n",
            "\u001b[2K     \u001b[90m━━━━━━━━━━━━━━━━━━━━━━━━━━━━━━━━━━━━━━━━\u001b[0m \u001b[32m77.8/77.8 kB\u001b[0m \u001b[31m9.7 MB/s\u001b[0m eta \u001b[36m0:00:00\u001b[0m\n",
            "\u001b[2K     \u001b[90m━━━━━━━━━━━━━━━━━━━━━━━━━━━━━━━━━━━━━━━━\u001b[0m \u001b[32m58.3/58.3 kB\u001b[0m \u001b[31m8.0 MB/s\u001b[0m eta \u001b[36m0:00:00\u001b[0m\n",
            "\u001b[2K     \u001b[90m━━━━━━━━━━━━━━━━━━━━━━━━━━━━━━━━━━━━━━━━\u001b[0m \u001b[32m57.6/57.6 kB\u001b[0m \u001b[31m2.3 MB/s\u001b[0m eta \u001b[36m0:00:00\u001b[0m\n",
            "\u001b[?25h"
          ]
        }
      ],
      "source": [
        "!pip install -q openai\n",
        "!pip install -q pytube\n",
        "!pip install -q ffmpeg-python\n",
        "!pip install -q git+https://github.com/openai/whisper.git"
      ]
    },
    {
      "cell_type": "code",
      "source": [
        "import ffmpeg\n",
        "import requests\n",
        "import os\n",
        "import openai\n",
        "import pytube\n",
        "import whisper\n",
        "from pytube import YouTube"
      ],
      "metadata": {
        "id": "1aHvoj2wuooB"
      },
      "execution_count": 3,
      "outputs": []
    },
    {
      "cell_type": "code",
      "source": [
        "def download_video_mp4(youtube_url):\n",
        "\n",
        "  # Create a youtube object\n",
        "  yt = YouTube(youtube_url)\n",
        "\n",
        "  # Get the video with the highest resolution and file size\n",
        "  video = yt.streams.filter(progressive=True,\n",
        "                           file_extension='mp4').order_by('resolution').desc().first()\n",
        "\n",
        "  # Download the video to the current working directory\n",
        "  video.download()\n",
        "\n",
        "  print('Video downloaded')\n",
        "  return 1"
      ],
      "metadata": {
        "id": "nh9YjmDr034M"
      },
      "execution_count": 6,
      "outputs": []
    },
    {
      "cell_type": "code",
      "source": [
        "download_video_mp4(\"https://youtu.be/LB4MVdpajsU\")"
      ],
      "metadata": {
        "id": "5joawLG52EmU",
        "outputId": "2c83d906-6955-4764-d5c7-7fe6ff815cfe",
        "colab": {
          "base_uri": "https://localhost:8080/"
        }
      },
      "execution_count": 7,
      "outputs": [
        {
          "output_type": "stream",
          "name": "stdout",
          "text": [
            "Video downloaded\n"
          ]
        },
        {
          "output_type": "execute_result",
          "data": {
            "text/plain": [
              "1"
            ]
          },
          "metadata": {},
          "execution_count": 7
        }
      ]
    },
    {
      "cell_type": "code",
      "source": [
        "os.listdir()"
      ],
      "metadata": {
        "id": "p5Rv6abM2II2",
        "outputId": "ce849e64-6e5d-400a-bf27-4ca97d05fbcf",
        "colab": {
          "base_uri": "https://localhost:8080/"
        }
      },
      "execution_count": 8,
      "outputs": [
        {
          "output_type": "execute_result",
          "data": {
            "text/plain": [
              "['.config',\n",
              " 'Open AIs ChatGPT based Chatbot using Python and Gradio  ChatGPT with Python.mp4',\n",
              " 'sample_data']"
            ]
          },
          "metadata": {},
          "execution_count": 8
        }
      ]
    },
    {
      "cell_type": "code",
      "source": [
        "def create_audio_file(video_filename):\n",
        "  # Use ffmpeg to extract the audio track from the video and create an .mp4 audio file\n",
        "  audio_filename = video_filename.replace(\".mp4\", \".mp3\")\n",
        "  stream = ffmpeg.input(video_filename)\n",
        "  stream = ffmpeg.output(stream, audio_filename)\n",
        "  ffmpeg.run(stream)\n",
        "  return audio_filename"
      ],
      "metadata": {
        "id": "ikPJeKyT2S3v"
      },
      "execution_count": 9,
      "outputs": []
    },
    {
      "cell_type": "code",
      "source": [
        "create_audio_file(os.listdir()[1])"
      ],
      "metadata": {
        "id": "qJRaBaxF2pZA",
        "outputId": "921bf23e-f6b9-4d4c-94d7-447b154fa22a",
        "colab": {
          "base_uri": "https://localhost:8080/",
          "height": 35
        }
      },
      "execution_count": 10,
      "outputs": [
        {
          "output_type": "execute_result",
          "data": {
            "text/plain": [
              "'Open AIs ChatGPT based Chatbot using Python and Gradio  ChatGPT with Python.mp3'"
            ],
            "application/vnd.google.colaboratory.intrinsic+json": {
              "type": "string"
            }
          },
          "metadata": {},
          "execution_count": 10
        }
      ]
    },
    {
      "cell_type": "code",
      "source": [
        "os.listdir()"
      ],
      "metadata": {
        "id": "gOp57c8u2u8k",
        "outputId": "d3396638-7457-4fe5-c5df-ba70dbc0cea2",
        "colab": {
          "base_uri": "https://localhost:8080/"
        }
      },
      "execution_count": 11,
      "outputs": [
        {
          "output_type": "execute_result",
          "data": {
            "text/plain": [
              "['.config',\n",
              " 'Open AIs ChatGPT based Chatbot using Python and Gradio  ChatGPT with Python.mp4',\n",
              " 'Open AIs ChatGPT based Chatbot using Python and Gradio  ChatGPT with Python.mp3',\n",
              " 'sample_data']"
            ]
          },
          "metadata": {},
          "execution_count": 11
        }
      ]
    },
    {
      "cell_type": "code",
      "source": [
        "model = whisper.load_model(\"base\")"
      ],
      "metadata": {
        "id": "ScB10fAZ21SI",
        "outputId": "f7ce59ae-a3d9-458d-90ba-47bc1c87a546",
        "colab": {
          "base_uri": "https://localhost:8080/"
        }
      },
      "execution_count": 12,
      "outputs": [
        {
          "output_type": "stream",
          "name": "stderr",
          "text": [
            "100%|███████████████████████████████████████| 139M/139M [00:01<00:00, 82.4MiB/s]\n"
          ]
        }
      ]
    },
    {
      "cell_type": "code",
      "source": [
        "def transcribe(audio_path):\n",
        "    # pred_model = whisper.load_model(\"base\")\n",
        "    result = model.transcribe(audio_path)\n",
        "    return result[\"text\"]"
      ],
      "metadata": {
        "id": "iVSQQ4Rs2734"
      },
      "execution_count": 13,
      "outputs": []
    },
    {
      "cell_type": "code",
      "source": [
        "yt_text = transcribe(os.listdir()[1])"
      ],
      "metadata": {
        "id": "SEJdPtnd3Csj"
      },
      "execution_count": 14,
      "outputs": []
    },
    {
      "cell_type": "code",
      "source": [
        "from pprint import pprint\n",
        "pprint(yt_text)"
      ],
      "metadata": {
        "id": "Qh-yohQq35r-",
        "outputId": "7338dcbb-9923-4f2c-dfdb-a363999a06eb",
        "colab": {
          "base_uri": "https://localhost:8080/"
        }
      },
      "execution_count": 15,
      "outputs": [
        {
          "output_type": "stream",
          "name": "stdout",
          "text": [
            "(\" The storm that has been started by chat GPT doesn't seem to stop. Everyone \"\n",
            " 'has a different version of how they want to use chat GPT. A lot of you have '\n",
            " 'rightly pointed out that the solutions that I created in my previous videos '\n",
            " \"regarding chat GPT are facing some issues. In today's video I'll show you \"\n",
            " \"how you can create chat GPT based chatbot using open AI's module which will \"\n",
            " 'hopefully not fail. When I say hopefully it all depends if you have the '\n",
            " 'right secret key. So without wasting any further time let me now show you '\n",
            " 'how you can create your own amazing chatbot which is like chat GPT the mini '\n",
            " \"version of chat GPT using open AI's API. So without wasting any further time \"\n",
            " 'let me kick start the discussion by installation. In this particular demo I '\n",
            " \"require two basic libraries that is open AI and Gradio. I'll basically \"\n",
            " 'create a chatbot on Gradio which is where I require Gradio and I need open '\n",
            " \"AI for the entire open AI's chat GPT version. So let me quickly run the \"\n",
            " 'cell. The installation is done. The next thing that I have to do is import '\n",
            " \"the necessary modules. Since I've installed two modules which is open AI and \"\n",
            " \"Gradio I'll import them so I'll quickly run the cell. Now if you want to run \"\n",
            " 'this entire activity without any glitches you require an API key '\n",
            " 'specifically given by open AI. So the way you can get your API key is '\n",
            " \"through this particular URL. I've basically kept the cell hidden and I'll \"\n",
            " \"execute the cell but all you have to do is create an account on open AI's \"\n",
            " \"site and go to this particular URL and get your API key. So I'll quickly run \"\n",
            " \"the cell. Now the next thing that I've done is I've created a function \"\n",
            " 'called as open AI underscore chat where in I pass an input which is the '\n",
            " 'prompt and I call the open AI dot completion dot create function which will '\n",
            " \"help me complete whatever question I'm asking. So think of it as more of a \"\n",
            " \"conversation agent which I'm kind of accessing directly through open AI. So \"\n",
            " 'there is no chat GPT interface that a lot of people have created solutions '\n",
            " \"around chat GPT's website. A lot of people have reverse engineered the chat \"\n",
            " 'GPT API but rather than doing all of that I wanted to create a mini version '\n",
            " \"of chat GPT based chatbot which is where I'm using open AI dot completion \"\n",
            " \"dot create. I'm specifying the engine. I take in the input prompt. I specify \"\n",
            " 'max number of tokens and equal to one and temperature equal to 0.5. This is '\n",
            " 'something that I specify. Now once I have the completion output with me from '\n",
            " 'the open AI API. The next thing that I do is I extract the text value which '\n",
            " 'is present in the first choice. So completion would basically be a list. '\n",
            " \"I'll extract the choices value. I'll extract the first item of the list \"\n",
            " \"which is present in choices and I'll extract the text. If there are any \"\n",
            " \"starting spaces or ending spaces I'll basically use trip to remove all the \"\n",
            " 'spaces that are there. The unwanted spaces in my output and that is '\n",
            " \"something that I'll return through this particular function. So I'll quickly \"\n",
            " \"go forward and run this cell. In this piece of code what I'm basically doing \"\n",
            " \"is I'm creating an interface function wherein I can kind of create a chatbot \"\n",
            " \"like interface on Gradio. I'm accepting an input and I'm accepting one more \"\n",
            " 'input which is history which is initially empty. I call the open AI chat '\n",
            " 'function and pass in the input store that output in a variable called as '\n",
            " 'output and I keep upending the history and I keep returning that history. '\n",
            " \"That is all that this function does. It's basically a simple function that \"\n",
            " 'takes the output, keeps upending the input with output and keeps sharing '\n",
            " 'that across. All of this will kind of make sense once you see the interface. '\n",
            " \"So I'll quickly run this cell as well. And finally here is where I create an \"\n",
            " 'interface. So I have gr.interface wherein I call the function chatbot. So my '\n",
            " 'interfaces are my text and state. State will kind of have the state of your '\n",
            " 'entire chat and your output is again chatbot comma state and I call the dot '\n",
            " 'launch function dbag equal to true and I have written this multiple times. '\n",
            " \"So I'll kind of remove this and now I'll quickly run this cell. So my \"\n",
            " \"interface is up and running. So I'll quickly start with basic questions. \"\n",
            " 'What is Python? Python is a high level interpreted general purpose '\n",
            " 'programming language. When was C++ invented? And here is the next question '\n",
            " 'when was C++ invented? C++ was invented in 1979 and all the details that '\n",
            " \"follow after that. So here is the answer. Who won the men's cricket world \"\n",
            " 'cup in 1996? So here it says Sri Lanka which is correct. If I change it to '\n",
            " \"1983 it should give me an answer that is India. So yeah I mean it's a mini \"\n",
            " \"chat gpt interface that you've kind of created. You don't have to wait for a \"\n",
            " 'long time to actually get access to chat gpt if your use case is to create a '\n",
            " 'chatbot as simple as this. Then I would highly encourage you to use this '\n",
            " 'particular open AI service. So this is something that I wanted to share with '\n",
            " 'all of you. So that you can kind of create more and more applications using '\n",
            " 'chat gpt. I hope you found this video informative. If you do like the '\n",
            " 'content that I post on my channel it would be super motivating if you can '\n",
            " 'press the subscribe button and also press the bell icon to be notified for '\n",
            " 'amazing videos on data science and machine learning. Thank you so much for '\n",
            " 'watching the video.')\n"
          ]
        }
      ]
    },
    {
      "cell_type": "code",
      "source": [],
      "metadata": {
        "id": "UAPAzr9a4DKb"
      },
      "execution_count": null,
      "outputs": []
    }
  ]
}